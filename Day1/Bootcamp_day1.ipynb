{
 "cells": [
  {
   "cell_type": "code",
   "execution_count": null,
   "metadata": {
    "colab": {},
    "colab_type": "code",
    "id": "pT-2cBhJEnuM"
   },
   "outputs": [],
   "source": [
    "n = 10"
   ]
  },
  {
   "cell_type": "code",
   "execution_count": null,
   "metadata": {
    "colab": {
     "base_uri": "https://localhost:8080/",
     "height": 34
    },
    "colab_type": "code",
    "id": "IfK03a99EwKn",
    "outputId": "04c786ba-21ad-4ffa-906f-31e421b8916d"
   },
   "outputs": [
    {
     "name": "stdout",
     "output_type": "stream",
     "text": [
      "10\n"
     ]
    }
   ],
   "source": [
    "print(n)"
   ]
  },
  {
   "cell_type": "code",
   "execution_count": null,
   "metadata": {
    "colab": {
     "base_uri": "https://localhost:8080/",
     "height": 188
    },
    "colab_type": "code",
    "id": "OyIi04nFE06F",
    "outputId": "451e819a-667b-4ba3-d252-4c1b31c0c9c9"
   },
   "outputs": [
    {
     "name": "stdout",
     "output_type": "stream",
     "text": [
      "0 x 3 = 0\n",
      "1 x 3 = 2\n",
      "2 x 3 = 4\n",
      "3 x 3 = 6\n",
      "4 x 3 = 8\n",
      "5 x 3 = 10\n",
      "6 x 3 = 12\n",
      "7 x 3 = 14\n",
      "8 x 3 = 16\n",
      "9 x 3 = 18\n"
     ]
    }
   ],
   "source": [
    "for i in range(n):\n",
    "  print(i,'x',3, '=', i*2)"
   ]
  },
  {
   "cell_type": "code",
   "execution_count": null,
   "metadata": {
    "colab": {},
    "colab_type": "code",
    "id": "7nZ36GG5E777"
   },
   "outputs": [],
   "source": [
    "# Lets print first 100 odd number"
   ]
  },
  {
   "cell_type": "code",
   "execution_count": null,
   "metadata": {
    "colab": {
     "base_uri": "https://localhost:8080/",
     "height": 897
    },
    "colab_type": "code",
    "id": "87JSVjS8FT45",
    "outputId": "ccd82cd4-233f-43db-af1f-a1b96b2469dc"
   },
   "outputs": [
    {
     "name": "stdout",
     "output_type": "stream",
     "text": [
      "1\n",
      "3\n",
      "5\n",
      "7\n",
      "9\n",
      "11\n",
      "13\n",
      "15\n",
      "17\n",
      "19\n",
      "21\n",
      "23\n",
      "25\n",
      "27\n",
      "29\n",
      "31\n",
      "33\n",
      "35\n",
      "37\n",
      "39\n",
      "41\n",
      "43\n",
      "45\n",
      "47\n",
      "49\n",
      "51\n",
      "53\n",
      "55\n",
      "57\n",
      "59\n",
      "61\n",
      "63\n",
      "65\n",
      "67\n",
      "69\n",
      "71\n",
      "73\n",
      "75\n",
      "77\n",
      "79\n",
      "81\n",
      "83\n",
      "85\n",
      "87\n",
      "89\n",
      "91\n",
      "93\n",
      "95\n",
      "97\n",
      "99\n"
     ]
    }
   ],
   "source": [
    "n = 100\n",
    "for i in range(n):\n",
    "  if i%2!=0:\n",
    "    print(i)"
   ]
  },
  {
   "cell_type": "code",
   "execution_count": null,
   "metadata": {
    "colab": {
     "base_uri": "https://localhost:8080/",
     "height": 874
    },
    "colab_type": "code",
    "id": "z930Bv90FgtP",
    "outputId": "2603dc4d-95f0-40b0-a200-f13a80ce9cd8"
   },
   "outputs": [
    {
     "name": "stdout",
     "output_type": "stream",
     "text": [
      "0 is a even number\n",
      "2 is a even number\n",
      "4 is a even number\n",
      "6 is a even number\n",
      "8 is a even number\n",
      "10 is a even number\n",
      "12 is a even number\n",
      "14 is a even number\n",
      "16 is a even number\n",
      "18 is a even number\n",
      "20 is a even number\n",
      "22 is a even number\n",
      "24 is a even number\n",
      "26 is a even number\n",
      "28 is a even number\n",
      "30 is a even number\n",
      "32 is a even number\n",
      "34 is a even number\n",
      "36 is a even number\n",
      "38 is a even number\n",
      "40 is a even number\n",
      "42 is a even number\n",
      "44 is a even number\n",
      "46 is a even number\n",
      "48 is a even number\n",
      "50 is a even number\n",
      "52 is a even number\n",
      "54 is a even number\n",
      "56 is a even number\n",
      "58 is a even number\n",
      "60 is a even number\n",
      "62 is a even number\n",
      "64 is a even number\n",
      "66 is a even number\n",
      "68 is a even number\n",
      "70 is a even number\n",
      "72 is a even number\n",
      "74 is a even number\n",
      "76 is a even number\n",
      "78 is a even number\n",
      "80 is a even number\n",
      "82 is a even number\n",
      "84 is a even number\n",
      "86 is a even number\n",
      "88 is a even number\n",
      "90 is a even number\n",
      "92 is a even number\n",
      "94 is a even number\n",
      "96 is a even number\n",
      "98 is a even number\n"
     ]
    }
   ],
   "source": [
    "n = 100\n",
    "for i in range(n):\n",
    "  if i%2 == 0:\n",
    "    print(i, \"is a even number\")"
   ]
  },
  {
   "cell_type": "code",
   "execution_count": null,
   "metadata": {
    "colab": {},
    "colab_type": "code",
    "id": "io3alJuBFshk"
   },
   "outputs": [],
   "source": [
    "a = 10"
   ]
  },
  {
   "cell_type": "code",
   "execution_count": null,
   "metadata": {
    "colab": {
     "base_uri": "https://localhost:8080/",
     "height": 34
    },
    "colab_type": "code",
    "id": "nLmFtQPTHNpq",
    "outputId": "6b9d8ddf-4332-414b-91cc-6ad3032aa827"
   },
   "outputs": [
    {
     "data": {
      "text/plain": [
       "int"
      ]
     },
     "execution_count": 12,
     "metadata": {
      "tags": []
     },
     "output_type": "execute_result"
    }
   ],
   "source": [
    "type(a)"
   ]
  },
  {
   "cell_type": "code",
   "execution_count": null,
   "metadata": {
    "colab": {},
    "colab_type": "code",
    "id": "R5ZjtV9hHQ5Y"
   },
   "outputs": [],
   "source": [
    "b = 1.5"
   ]
  },
  {
   "cell_type": "code",
   "execution_count": null,
   "metadata": {
    "colab": {
     "base_uri": "https://localhost:8080/",
     "height": 34
    },
    "colab_type": "code",
    "id": "ooJ2OA1mHTAG",
    "outputId": "5539fcb7-d399-4c02-d445-5fd8005e83ce"
   },
   "outputs": [
    {
     "data": {
      "text/plain": [
       "float"
      ]
     },
     "execution_count": 14,
     "metadata": {
      "tags": []
     },
     "output_type": "execute_result"
    }
   ],
   "source": [
    "type(b)"
   ]
  },
  {
   "cell_type": "code",
   "execution_count": null,
   "metadata": {
    "colab": {},
    "colab_type": "code",
    "id": "hnQwt9jrHVAu"
   },
   "outputs": [],
   "source": [
    "c = \"10\""
   ]
  },
  {
   "cell_type": "code",
   "execution_count": null,
   "metadata": {
    "colab": {
     "base_uri": "https://localhost:8080/",
     "height": 34
    },
    "colab_type": "code",
    "id": "ak8StamVHXWW",
    "outputId": "32090d69-a927-45cf-9a4c-3bfe6a2d7df4"
   },
   "outputs": [
    {
     "data": {
      "text/plain": [
       "str"
      ]
     },
     "execution_count": 16,
     "metadata": {
      "tags": []
     },
     "output_type": "execute_result"
    }
   ],
   "source": [
    "type(c)"
   ]
  },
  {
   "cell_type": "code",
   "execution_count": null,
   "metadata": {
    "colab": {},
    "colab_type": "code",
    "id": "LbCF5NHwHdHH"
   },
   "outputs": [],
   "source": [
    "d = '10'"
   ]
  },
  {
   "cell_type": "code",
   "execution_count": null,
   "metadata": {
    "colab": {
     "base_uri": "https://localhost:8080/",
     "height": 34
    },
    "colab_type": "code",
    "id": "3LGKtvvMHjfc",
    "outputId": "97cbdd53-ede3-40a3-cab0-58730af8467f"
   },
   "outputs": [
    {
     "data": {
      "text/plain": [
       "str"
      ]
     },
     "execution_count": 19,
     "metadata": {
      "tags": []
     },
     "output_type": "execute_result"
    }
   ],
   "source": [
    "type(d)"
   ]
  },
  {
   "cell_type": "code",
   "execution_count": null,
   "metadata": {
    "colab": {},
    "colab_type": "code",
    "id": "PWE-DuaRHkiT"
   },
   "outputs": [],
   "source": [
    "e = \"R\""
   ]
  },
  {
   "cell_type": "code",
   "execution_count": null,
   "metadata": {
    "colab": {
     "base_uri": "https://localhost:8080/",
     "height": 34
    },
    "colab_type": "code",
    "id": "TAOsi5EWHpQp",
    "outputId": "b469899f-246d-4536-9e3f-f505b10849f1"
   },
   "outputs": [
    {
     "data": {
      "text/plain": [
       "str"
      ]
     },
     "execution_count": 21,
     "metadata": {
      "tags": []
     },
     "output_type": "execute_result"
    }
   ],
   "source": [
    "type(e)"
   ]
  },
  {
   "cell_type": "code",
   "execution_count": null,
   "metadata": {
    "colab": {},
    "colab_type": "code",
    "id": "nLUlzwEAHqWR"
   },
   "outputs": [],
   "source": [
    "f = \"Robin\""
   ]
  },
  {
   "cell_type": "code",
   "execution_count": null,
   "metadata": {
    "colab": {
     "base_uri": "https://localhost:8080/",
     "height": 34
    },
    "colab_type": "code",
    "id": "rDpVVxTuHthR",
    "outputId": "a66502a2-5fbf-4e15-f3d0-f4c1ac26ba7b"
   },
   "outputs": [
    {
     "data": {
      "text/plain": [
       "str"
      ]
     },
     "execution_count": 23,
     "metadata": {
      "tags": []
     },
     "output_type": "execute_result"
    }
   ],
   "source": [
    "type(f)"
   ]
  },
  {
   "cell_type": "code",
   "execution_count": null,
   "metadata": {
    "colab": {},
    "colab_type": "code",
    "id": "83grknkdHuuP"
   },
   "outputs": [],
   "source": [
    "g = \"Python is a interesting programming language\""
   ]
  },
  {
   "cell_type": "code",
   "execution_count": null,
   "metadata": {
    "colab": {
     "base_uri": "https://localhost:8080/",
     "height": 34
    },
    "colab_type": "code",
    "id": "--tZbQMvHyi8",
    "outputId": "3e2dbe74-5748-4fd2-d157-bb0470635439"
   },
   "outputs": [
    {
     "data": {
      "text/plain": [
       "str"
      ]
     },
     "execution_count": 25,
     "metadata": {
      "tags": []
     },
     "output_type": "execute_result"
    }
   ],
   "source": [
    "type(g)"
   ]
  },
  {
   "cell_type": "code",
   "execution_count": null,
   "metadata": {
    "colab": {},
    "colab_type": "code",
    "id": "i8MkMEjLHzsH"
   },
   "outputs": [],
   "source": [
    "h = \"False\""
   ]
  },
  {
   "cell_type": "code",
   "execution_count": null,
   "metadata": {
    "colab": {
     "base_uri": "https://localhost:8080/",
     "height": 34
    },
    "colab_type": "code",
    "id": "XRXeuYt4H1zs",
    "outputId": "954d2033-4fad-4129-d000-d946d8252a31"
   },
   "outputs": [
    {
     "data": {
      "text/plain": [
       "str"
      ]
     },
     "execution_count": 32,
     "metadata": {
      "tags": []
     },
     "output_type": "execute_result"
    }
   ],
   "source": [
    "type(h)"
   ]
  },
  {
   "cell_type": "code",
   "execution_count": null,
   "metadata": {
    "colab": {
     "base_uri": "https://localhost:8080/",
     "height": 34
    },
    "colab_type": "code",
    "id": "oE1LmC_4H3T2",
    "outputId": "6185c293-7fb8-4dfe-cbb2-fb5206b77b01"
   },
   "outputs": [
    {
     "data": {
      "text/plain": [
       "10"
      ]
     },
     "execution_count": 33,
     "metadata": {
      "tags": []
     },
     "output_type": "execute_result"
    }
   ],
   "source": [
    "a"
   ]
  },
  {
   "cell_type": "code",
   "execution_count": null,
   "metadata": {
    "colab": {
     "base_uri": "https://localhost:8080/",
     "height": 34
    },
    "colab_type": "code",
    "id": "cGS7wncDIDAB",
    "outputId": "eb5284d4-fec0-46c4-ad55-7aceb516daf4"
   },
   "outputs": [
    {
     "data": {
      "text/plain": [
       "0"
      ]
     },
     "execution_count": 34,
     "metadata": {
      "tags": []
     },
     "output_type": "execute_result"
    }
   ],
   "source": [
    "a%2"
   ]
  },
  {
   "cell_type": "code",
   "execution_count": null,
   "metadata": {
    "colab": {
     "base_uri": "https://localhost:8080/",
     "height": 34
    },
    "colab_type": "code",
    "id": "VjqhjyNXIEPS",
    "outputId": "d797d11b-bb43-4027-bf81-1b56255a7453"
   },
   "outputs": [
    {
     "data": {
      "text/plain": [
       "1"
      ]
     },
     "execution_count": 35,
     "metadata": {
      "tags": []
     },
     "output_type": "execute_result"
    }
   ],
   "source": [
    "a%3"
   ]
  },
  {
   "cell_type": "code",
   "execution_count": null,
   "metadata": {
    "colab": {
     "base_uri": "https://localhost:8080/",
     "height": 34
    },
    "colab_type": "code",
    "id": "AAq4KarpIGTF",
    "outputId": "c2a7ec32-4d0f-40e3-bed3-3d1d398d6d36"
   },
   "outputs": [
    {
     "name": "stdout",
     "output_type": "stream",
     "text": [
      "No\n"
     ]
    }
   ],
   "source": [
    "if a%2: \n",
    "  print(\"Yes\")\n",
    "else:\n",
    "  print(\"No\")"
   ]
  },
  {
   "cell_type": "code",
   "execution_count": null,
   "metadata": {
    "colab": {},
    "colab_type": "code",
    "id": "V26sqsVWINNx"
   },
   "outputs": [],
   "source": [
    "students = [\"Robin\", \"Jack\", \"Sam\", \"tino\",\"\"]"
   ]
  },
  {
   "cell_type": "code",
   "execution_count": null,
   "metadata": {
    "colab": {
     "base_uri": "https://localhost:8080/",
     "height": 35
    },
    "colab_type": "code",
    "id": "tNm2lc7JIYlx",
    "outputId": "fe393330-a895-44f6-cea9-ffdb2e7feccb"
   },
   "outputs": [
    {
     "data": {
      "application/vnd.google.colaboratory.intrinsic": {
       "type": "string"
      },
      "text/plain": [
       "''"
      ]
     },
     "execution_count": 44,
     "metadata": {
      "tags": []
     },
     "output_type": "execute_result"
    }
   ],
   "source": [
    "students[4]"
   ]
  },
  {
   "cell_type": "code",
   "execution_count": null,
   "metadata": {
    "colab": {},
    "colab_type": "code",
    "id": "ytW1FC23IZdy"
   },
   "outputs": [],
   "source": [
    "students = [a, b, c, d, e, f]"
   ]
  },
  {
   "cell_type": "code",
   "execution_count": null,
   "metadata": {
    "colab": {},
    "colab_type": "code",
    "id": "JE-j6OMkI653"
   },
   "outputs": [],
   "source": [
    "students[0] = 20"
   ]
  },
  {
   "cell_type": "code",
   "execution_count": null,
   "metadata": {
    "colab": {
     "base_uri": "https://localhost:8080/",
     "height": 34
    },
    "colab_type": "code",
    "id": "epyK5I_dI77W",
    "outputId": "537dfb0b-f6a2-4cbf-e8a7-ed0602cb2481"
   },
   "outputs": [
    {
     "data": {
      "text/plain": [
       "[20, 1.5, '10', '10', 'R', 'Robin']"
      ]
     },
     "execution_count": 48,
     "metadata": {
      "tags": []
     },
     "output_type": "execute_result"
    }
   ],
   "source": [
    "students"
   ]
  },
  {
   "cell_type": "code",
   "execution_count": null,
   "metadata": {
    "colab": {},
    "colab_type": "code",
    "id": "SQkJKndgJE2G"
   },
   "outputs": [],
   "source": [
    "students = (\"Robin\", \"Jack\", \"Smith\")"
   ]
  },
  {
   "cell_type": "code",
   "execution_count": null,
   "metadata": {
    "colab": {},
    "colab_type": "code",
    "id": "lX73A4RfJWbu"
   },
   "outputs": [],
   "source": [
    "person = {\"name\": \"Robin\", \"class\": \"Data Science\"}"
   ]
  },
  {
   "cell_type": "code",
   "execution_count": null,
   "metadata": {
    "colab": {
     "base_uri": "https://localhost:8080/",
     "height": 35
    },
    "colab_type": "code",
    "id": "VKIlnnNQJreW",
    "outputId": "08de795e-623a-4a11-f3e8-a5e0211a7b6a"
   },
   "outputs": [
    {
     "data": {
      "application/vnd.google.colaboratory.intrinsic": {
       "type": "string"
      },
      "text/plain": [
       "'Robin'"
      ]
     },
     "execution_count": 56,
     "metadata": {
      "tags": []
     },
     "output_type": "execute_result"
    }
   ],
   "source": [
    "person[\"name\"]"
   ]
  },
  {
   "cell_type": "code",
   "execution_count": null,
   "metadata": {
    "colab": {
     "base_uri": "https://localhost:8080/",
     "height": 35
    },
    "colab_type": "code",
    "id": "eOPKEgvUJ1xX",
    "outputId": "f163e866-9ea1-41b4-8e57-613ea830f67e"
   },
   "outputs": [
    {
     "data": {
      "application/vnd.google.colaboratory.intrinsic": {
       "type": "string"
      },
      "text/plain": [
       "'Data Science'"
      ]
     },
     "execution_count": 57,
     "metadata": {
      "tags": []
     },
     "output_type": "execute_result"
    }
   ],
   "source": [
    "person[\"class\"]"
   ]
  },
  {
   "cell_type": "code",
   "execution_count": null,
   "metadata": {
    "colab": {
     "base_uri": "https://localhost:8080/",
     "height": 34
    },
    "colab_type": "code",
    "id": "vV9QCPm9J3cp",
    "outputId": "9677fc55-cfde-4714-dd9b-d940549bf093"
   },
   "outputs": [
    {
     "data": {
      "text/plain": [
       "int"
      ]
     },
     "execution_count": 58,
     "metadata": {
      "tags": []
     },
     "output_type": "execute_result"
    }
   ],
   "source": [
    "type(a)"
   ]
  },
  {
   "cell_type": "code",
   "execution_count": null,
   "metadata": {
    "colab": {},
    "colab_type": "code",
    "id": "jLR1X57qJ_Oj"
   },
   "outputs": [],
   "source": [
    "def sum(x, y):\n",
    "  print(x+y)"
   ]
  },
  {
   "cell_type": "code",
   "execution_count": null,
   "metadata": {
    "colab": {
     "base_uri": "https://localhost:8080/",
     "height": 34
    },
    "colab_type": "code",
    "id": "EFOntSqXKUrO",
    "outputId": "2bbdaba5-8dd4-4275-dd0e-80cfdeb567da"
   },
   "outputs": [
    {
     "name": "stdout",
     "output_type": "stream",
     "text": [
      "30\n"
     ]
    }
   ],
   "source": [
    "sum(10, 20)"
   ]
  },
  {
   "cell_type": "code",
   "execution_count": null,
   "metadata": {
    "colab": {
     "base_uri": "https://localhost:8080/",
     "height": 34
    },
    "colab_type": "code",
    "id": "EyLgl940KWg3",
    "outputId": "682f3144-5eb6-4419-87e8-8530a5554795"
   },
   "outputs": [
    {
     "name": "stdout",
     "output_type": "stream",
     "text": [
      "30\n"
     ]
    }
   ],
   "source": [
    "result = sum(10, 20)"
   ]
  },
  {
   "cell_type": "code",
   "execution_count": null,
   "metadata": {
    "colab": {},
    "colab_type": "code",
    "id": "kJqF-O2cKbUY"
   },
   "outputs": [],
   "source": [
    "result"
   ]
  },
  {
   "cell_type": "code",
   "execution_count": null,
   "metadata": {
    "colab": {},
    "colab_type": "code",
    "id": "6N9bk1wRKczz"
   },
   "outputs": [],
   "source": [
    "def sum(x, y):\n",
    "  return x+y"
   ]
  },
  {
   "cell_type": "code",
   "execution_count": null,
   "metadata": {
    "colab": {
     "base_uri": "https://localhost:8080/",
     "height": 34
    },
    "colab_type": "code",
    "id": "8o1t0zIHKmKS",
    "outputId": "12814c11-91a1-47b1-ba21-60afeaa0052b"
   },
   "outputs": [
    {
     "data": {
      "text/plain": [
       "30"
      ]
     },
     "execution_count": 64,
     "metadata": {
      "tags": []
     },
     "output_type": "execute_result"
    }
   ],
   "source": [
    "sum(10, 20)"
   ]
  },
  {
   "cell_type": "code",
   "execution_count": null,
   "metadata": {
    "colab": {},
    "colab_type": "code",
    "id": "Nrx1LCujKnZL"
   },
   "outputs": [],
   "source": [
    "result = sum(10, 20)"
   ]
  },
  {
   "cell_type": "code",
   "execution_count": null,
   "metadata": {
    "colab": {
     "base_uri": "https://localhost:8080/",
     "height": 34
    },
    "colab_type": "code",
    "id": "rG8dOpPiKpXe",
    "outputId": "498dfe13-0e77-4f72-9481-885ba4300e05"
   },
   "outputs": [
    {
     "data": {
      "text/plain": [
       "30"
      ]
     },
     "execution_count": 66,
     "metadata": {
      "tags": []
     },
     "output_type": "execute_result"
    }
   ],
   "source": [
    "result"
   ]
  },
  {
   "cell_type": "code",
   "execution_count": null,
   "metadata": {
    "colab": {},
    "colab_type": "code",
    "id": "wo-W4uT_KqPN"
   },
   "outputs": [],
   "source": [
    "from datetime import datetime, timedelta\n",
    "class Employee:\n",
    "\n",
    "  def __init__(self, fname, lname, gender, salary, dob):\n",
    "    self.fname = fname\n",
    "    self.lname = lname\n",
    "    self.gender = gender\n",
    "    self.salary = salary\n",
    "    self.dob = datetime.strptime(dob, \"%d/%m/%Y\")\n",
    "\n",
    "  def get_fullname(self):\n",
    "    return self.fname + ' ' + self.lname\n",
    "\n",
    "  def get_age(self):\n",
    "    today = datetime.now()\n",
    "    delta = today.year - self.dob.year\n",
    "    return delta\n",
    "  \n",
    "  def is_elder(self):\n",
    "    age = self.get_age()\n",
    "    if age > 45:\n",
    "      return True\n",
    "    else:\n",
    "      return False\n",
    "\n",
    "\n",
    "  def is_applicable_for_promo(self):\n",
    "    age = self.get_age()\n",
    "    salary = int(self.salary)\n",
    "\n",
    "    if age > 35 and salary < 25000:\n",
    "      return True\n",
    "    else:\n",
    "      return False"
   ]
  },
  {
   "cell_type": "code",
   "execution_count": null,
   "metadata": {
    "colab": {},
    "colab_type": "code",
    "id": "UmoMCzD_Lt0w"
   },
   "outputs": [],
   "source": [
    "emp = Employee(\"Bastin\", \"Robin\", \"male\", \"25000\", \"05/01/1980\")"
   ]
  },
  {
   "cell_type": "code",
   "execution_count": null,
   "metadata": {
    "colab": {
     "base_uri": "https://localhost:8080/",
     "height": 35
    },
    "colab_type": "code",
    "id": "NucL9AHtL5ji",
    "outputId": "b51e1f6b-01ef-4786-b76a-dd9769ffd624"
   },
   "outputs": [
    {
     "data": {
      "application/vnd.google.colaboratory.intrinsic": {
       "type": "string"
      },
      "text/plain": [
       "'Bastin Robin'"
      ]
     },
     "execution_count": 99,
     "metadata": {
      "tags": []
     },
     "output_type": "execute_result"
    }
   ],
   "source": [
    "emp.get_fullname()"
   ]
  },
  {
   "cell_type": "code",
   "execution_count": null,
   "metadata": {
    "colab": {
     "base_uri": "https://localhost:8080/",
     "height": 34
    },
    "colab_type": "code",
    "id": "GJEu6q6kL-lR",
    "outputId": "501476e0-2432-4100-faf4-19129041981b"
   },
   "outputs": [
    {
     "data": {
      "text/plain": [
       "40"
      ]
     },
     "execution_count": 100,
     "metadata": {
      "tags": []
     },
     "output_type": "execute_result"
    }
   ],
   "source": [
    "emp.get_age()"
   ]
  },
  {
   "cell_type": "code",
   "execution_count": null,
   "metadata": {
    "colab": {
     "base_uri": "https://localhost:8080/",
     "height": 34
    },
    "colab_type": "code",
    "id": "3p2tcf6AMccZ",
    "outputId": "d019d3e4-72a3-44e2-c537-2956ee01d96d"
   },
   "outputs": [
    {
     "data": {
      "text/plain": [
       "False"
      ]
     },
     "execution_count": 101,
     "metadata": {
      "tags": []
     },
     "output_type": "execute_result"
    }
   ],
   "source": [
    "emp.is_elder()"
   ]
  },
  {
   "cell_type": "code",
   "execution_count": null,
   "metadata": {
    "colab": {
     "base_uri": "https://localhost:8080/",
     "height": 34
    },
    "colab_type": "code",
    "id": "IDyhhHFdNm-J",
    "outputId": "bff09ba6-58c0-4a3e-c0ee-dff404a7078f"
   },
   "outputs": [
    {
     "data": {
      "text/plain": [
       "False"
      ]
     },
     "execution_count": 102,
     "metadata": {
      "tags": []
     },
     "output_type": "execute_result"
    }
   ],
   "source": [
    "emp.is_applicable_for_promo()"
   ]
  },
  {
   "cell_type": "code",
   "execution_count": null,
   "metadata": {
    "colab": {},
    "colab_type": "code",
    "id": "J-bceISHOJh5"
   },
   "outputs": [],
   "source": [
    "employees = [\n",
    "\t(\"Mike\", \"A\", \"male\", 25000, \"01/05/1982\", \"20/01/2018\"),\n",
    "\t(\"Jack\", \"M\", \"male\", 35000, \"01/05/1983\", \"05/05/2016\"),\n",
    "\t(\"Tom\", \"Smith\", \"male\", 26000, \"01/05/1984\", \"10/06/2018\"),\n",
    "\t(\"Niki\", \"Smith\", \"female\", 45000, \"01/05/1952\", \"10/01/2018\"),\n",
    "\t(\"John\", \"Walker\", \"male\", 35000, \"01/05/1986\", \"20/01/2018\"),\n",
    "\t(\"Suresh\", \"Kumar\", \"male\", 45000, \"01/05/1987\", \"20/01/2018\"),\n",
    "\t(\"Danny\", \"Harvey\", \"female\", 55000, \"01/05/1981\", \"20/01/2016\"),\n",
    "\t(\"Peter\", \"Parker\", \"male\", 35000, \"01/05/1988\", \"05/01/2020\"),\n",
    "\t(\"Antony\", \"Davis\", \"male\", 30000, \"01/05/1982\", \"05/01/2020\"),\n",
    "\t(\"Sameera\", \"R\", \"female\", 21000, \"01/05/1982\", \"20/01/2018\"),\n",
    "\t(\"Kim\", \"Peterson\", \"female\", 21000, \"01/05/1990\", \"20/01/2020\"),\n",
    "\t(\"Mathew\", \"Tim\", \"male\", 35000, \"01/05/1992\", \"20/01/2018\"),\n",
    "\t(\"Robert\", \"Smith\", \"male\", 25000, \"01/05/1992\", \"20/01/2018\")\n",
    "]"
   ]
  },
  {
   "cell_type": "code",
   "execution_count": null,
   "metadata": {
    "colab": {},
    "colab_type": "code",
    "id": "OGJljNz_OQKd"
   },
   "outputs": [],
   "source": [
    "list_of_all = []\n",
    "\n",
    "for fname, lname, gender, salary, dob, joined_on in employees:\n",
    "  emp = Employee(fname, lname, gender, salary, dob)\n",
    "  list_of_all.append(emp)"
   ]
  },
  {
   "cell_type": "code",
   "execution_count": null,
   "metadata": {
    "colab": {
     "base_uri": "https://localhost:8080/",
     "height": 240
    },
    "colab_type": "code",
    "id": "lqi1Hbx8Oplz",
    "outputId": "7df163c5-d5e4-4e1d-c62c-33aae6d5774b"
   },
   "outputs": [
    {
     "data": {
      "text/plain": [
       "[<__main__.Employee at 0x7fc7ab7c7160>,\n",
       " <__main__.Employee at 0x7fc7ab7c7358>,\n",
       " <__main__.Employee at 0x7fc7ab7c7320>,\n",
       " <__main__.Employee at 0x7fc7ab7c7470>,\n",
       " <__main__.Employee at 0x7fc7ab7c72b0>,\n",
       " <__main__.Employee at 0x7fc7ab7c7278>,\n",
       " <__main__.Employee at 0x7fc7ab7c7128>,\n",
       " <__main__.Employee at 0x7fc7ab7c7438>,\n",
       " <__main__.Employee at 0x7fc7ab7c72e8>,\n",
       " <__main__.Employee at 0x7fc7ab7c7518>,\n",
       " <__main__.Employee at 0x7fc7ab7c7e48>,\n",
       " <__main__.Employee at 0x7fc7ab7c7780>,\n",
       " <__main__.Employee at 0x7fc7ab7bb588>]"
      ]
     },
     "execution_count": 105,
     "metadata": {
      "tags": []
     },
     "output_type": "execute_result"
    }
   ],
   "source": [
    "list_of_all"
   ]
  },
  {
   "cell_type": "code",
   "execution_count": null,
   "metadata": {
    "colab": {
     "base_uri": "https://localhost:8080/",
     "height": 240
    },
    "colab_type": "code",
    "id": "zDF16EZlOrYE",
    "outputId": "4d6b90e6-9de5-4b95-ca87-1322b9a90db3"
   },
   "outputs": [
    {
     "name": "stdout",
     "output_type": "stream",
     "text": [
      "Mike A 38 False\n",
      "Jack M 37 False\n",
      "Tom Smith 36 False\n",
      "Niki Smith 68 False\n",
      "John Walker 34 False\n",
      "Suresh Kumar 33 False\n",
      "Danny Harvey 39 False\n",
      "Peter Parker 32 False\n",
      "Antony Davis 38 False\n",
      "Sameera R 38 True\n",
      "Kim Peterson 30 False\n",
      "Mathew Tim 28 False\n",
      "Robert Smith 28 False\n"
     ]
    }
   ],
   "source": [
    "for person in list_of_all:\n",
    "  print(person.get_fullname(), person.get_age(), person.is_applicable_for_promo())"
   ]
  },
  {
   "cell_type": "code",
   "execution_count": null,
   "metadata": {
    "colab": {},
    "colab_type": "code",
    "id": "zEWau28gO0Wz"
   },
   "outputs": [],
   "source": []
  }
 ],
 "metadata": {
  "colab": {
   "name": "Bootcamp_day1.ipynb",
   "provenance": []
  },
  "kernelspec": {
   "display_name": "Python 3 (ipykernel)",
   "language": "python",
   "name": "python3"
  },
  "language_info": {
   "codemirror_mode": {
    "name": "ipython",
    "version": 3
   },
   "file_extension": ".py",
   "mimetype": "text/x-python",
   "name": "python",
   "nbconvert_exporter": "python",
   "pygments_lexer": "ipython3",
   "version": "3.8.16"
  }
 },
 "nbformat": 4,
 "nbformat_minor": 4
}
